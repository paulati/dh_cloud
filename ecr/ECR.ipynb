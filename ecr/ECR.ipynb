{
 "cells": [
  {
   "cell_type": "markdown",
   "metadata": {},
   "source": [
    "https://docs.aws.amazon.com/AmazonECR/latest/userguide/docker-basics.html\n",
    "\n",
    "https://boto3.amazonaws.com/v1/documentation/api/latest/reference/services/ecr.html\n",
    "\n",
    "https://jakevdp.github.io/PythonDataScienceHandbook/01.05-ipython-and-shell-commands.html\n",
    "\n",
    "\n"
   ]
  },
  {
   "cell_type": "code",
   "execution_count": 1,
   "metadata": {},
   "outputs": [],
   "source": [
    "accountId = \"622305974757\"\n",
    "repositoryName = \"grupo5-plot2do_code\"\n",
    "region = \"us-east-1\""
   ]
  },
  {
   "cell_type": "code",
   "execution_count": 2,
   "metadata": {},
   "outputs": [],
   "source": [
    "import boto3\n",
    "\n",
    "client = boto3.client('ecr')"
   ]
  },
  {
   "cell_type": "markdown",
   "metadata": {},
   "source": [
    "Create an Amazon ECR repository to store your image. Note the repositoryUri in the output."
   ]
  },
  {
   "cell_type": "code",
   "execution_count": null,
   "metadata": {},
   "outputs": [],
   "source": [
    "# response = client.delete_repository(\n",
    "    #registryId='string',\n",
    "#    repositoryName='plot2do_code',\n",
    "#    force=False\n",
    "#)\n",
    "#response"
   ]
  },
  {
   "cell_type": "code",
   "execution_count": null,
   "metadata": {},
   "outputs": [],
   "source": [
    "response = client.create_repository(\n",
    "    repositoryName=repositoryName\n",
    ")\n",
    "repositoryUri = response[\"repository\"][\"repositoryUri\"]\n",
    "print(response)\n",
    "print(repositoryUri)"
   ]
  },
  {
   "cell_type": "markdown",
   "metadata": {},
   "source": [
    "Repository already created, get repositoryUri"
   ]
  },
  {
   "cell_type": "code",
   "execution_count": 12,
   "metadata": {},
   "outputs": [
    {
     "data": {
      "text/plain": [
       "'622305974757.dkr.ecr.us-east-1.amazonaws.com/grupo5-plot2do_code'"
      ]
     },
     "execution_count": 12,
     "metadata": {},
     "output_type": "execute_result"
    }
   ],
   "source": [
    "response = client.describe_repositories(\n",
    "    repositoryNames=[repositoryName],\n",
    ")\n",
    "\n",
    "repositoryUri = response['repositories'][0]['repositoryUri']\n",
    "repositoryUri"
   ]
  },
  {
   "cell_type": "markdown",
   "metadata": {},
   "source": [
    "Tag the image with the repositoryUri value from the previous step. "
   ]
  },
  {
   "cell_type": "code",
   "execution_count": 14,
   "metadata": {},
   "outputs": [
    {
     "name": "stdout",
     "output_type": "stream",
     "text": [
      "[sudo] password for paulati: "
     ]
    }
   ],
   "source": [
    "! echo \"my_pass\" | sudo -S -k docker tag plot2do_code {repositoryUri} \n"
   ]
  },
  {
   "cell_type": "markdown",
   "metadata": {},
   "source": [
    "docker login authentication command string for your registry"
   ]
  },
  {
   "cell_type": "code",
   "execution_count": 15,
   "metadata": {},
   "outputs": [
    {
     "data": {
      "text/plain": [
       "'622305974757.dkr.ecr.us-east-1.amazonaws.com'"
      ]
     },
     "execution_count": 15,
     "metadata": {},
     "output_type": "execute_result"
    }
   ],
   "source": [
    "# no funciona:\n",
    "\n",
    "response = client.get_authorization_token(\n",
    "    registryIds=[\n",
    "        accountId\n",
    "    ]\n",
    ")\n",
    "\n",
    "# ! echo \"my_pass\" | sudo -S -k docker login\n",
    "\n",
    "p = response['authorizationData'][0]['authorizationToken']\n",
    "\n",
    "endpoint = response['authorizationData'][0]['proxyEndpoint']\n",
    "endpoint_fix = endpoint.replace(\"https://\", \"\")\n",
    "endpoint_fix"
   ]
  },
  {
   "cell_type": "code",
   "execution_count": 20,
   "metadata": {
    "scrolled": true
   },
   "outputs": [
    {
     "name": "stdout",
     "output_type": "stream",
     "text": [
      "docker login -u AWS -p eyJwYXlsb2FkIjoieWgyQlBhU0ROd1NyY3c1eEtJRmhmQnZYUGVBdWRsa2ZyTjkyNGllcUdEck9tWE1HbE14Tkowa0FKMVFMaDhuTlMxNWJnbFFud3VtN0tEOWtBUDNGbTFDYzVsVUhMc3BEa1owV2FUaUhWT29sbXErV2dsbGVHM1pySnJ5QWUyYTFsSlJaa282SWsvT2ZmZ3FxRURvNnVlWU0vdDhXSEJ2VldhUWpxUmM4M3F5VTA0TEpFYldIU2g2RFl3dXFqbzJHaVR1TmF2VXhRK1NVSGtJZ2RuYzBvVzhqODNLK2hKelEzdEJrb2pQcC9vWndrUitMRlhkenNKVUhzcit1Z05acDFTVkRXSnIwdWpWUTlGVEJZRG43OTQwRzM1UjZ0K3E2MnoyMVRkanhFWFdZMjRmYkU3K0Iya2FzODZhZ0ZrczI5Vkt4bkVDR0RRdGhNbzFaUStUaWpvWThmUkxvOFpudVMyMVFDOTRWek9yUFFRRjY5eDZOR05OTUlPelgxVVdIZkhWamZ4SmNFRmRvZnFoL0wzaUpaRnpnOGVITGR3eDNING5wTXpzc3NMWlFsV20zRFBRQzJ5RkFiY24yMHBNemZlaHQwRWF0cU0wZkVTTGRBd0NtUzdTWXZGM1hiNXFodkcxSW9KN2gwSjhaYmFjUmFza3FzY0c0V2svRTk2ZFZtQzZETXF4UWN2eWt4YWNMejREVTVTc2VsZ0N2YS9yaGVyQXN0TUxBWW95NFRjUk44N1dsVFBaaXBYbHY4aVJ2V3cwNTVUVHNlUStKZGhGTUppYTNia1lEODczaEFoS09TaGJvdVBJS1NUUVNnZ3psMEl2UEhVYjIrYlo5Z1dPcFhJa1hUN053U2ZpbENDdmpPeXpNcERnY0Rpa3ZvM0NTdjI2L2lGT0VxcUR5WG41c1JVampXYTBNaDNxOUV4NHA3K0ZManNUVitoTldvTVhhS3oyNFBwUS9UWXVNYnB0ZmVCSnBDRE1ES0pyTVhDOWd1RlZKbWtvaHZZWGhQZ3pBNUt0V3dNOFBrNDIwQUROZmtvQnV5ZkJWUG13REltNUd3T2RKSjBSa25wRmdyaHpDS0lYSlNYV2M1elVYYjRNQ3VzMGd5VlhFN0c5RjYxZnFXVzkzSFlMZndCbVVjVHBIcFdOZlZoTk42NjJHQlB0S3B0SU45eThyeDNuOFJubWhCWGVvN3JRcE9MYUs1MDhTZXBEMkhBQ3dZblg0aFlrbGEybFhHTFgwWWZZMit4ZmowNXFJOERyTzNONmMwNDI2blhyM0lvaUpqS1VCZlA5MXY1VVRGd2Rad3J2QjdiZ2tPSXJHZzNlN21IcjhFTzVycXdrMjZMRnNuYVBmb1l6NTdJT2JxNFJTcVZhTGc0MzRSVTVLK3A5cjBkcEZrOHFaU1pWTzJ3ckxjWkRacEx2blNyaTRuZkRHOFlROVRwTms3VmZ6ZjB2UExYZnRxREFidEJCUWdDVGtnaWhRc1E9PSIsImRhdGFrZXkiOiJBUUVCQUhod20wWWFJU0plUnRKbTVuMUc2dXFlZWtYdW9YWFBlNVVGY2U5UnE4LzE0d0FBQUg0d2ZBWUpLb1pJaHZjTkFRY0dvRzh3YlFJQkFEQm9CZ2txaGtpRzl3MEJCd0V3SGdZSllJWklBV1VEQkFFdU1CRUVETXlZQ1dDZ3VqK1F1aDhGUmdJQkVJQTd3ekNCQ1ZVYzdHd3pQMEljQkpxRkM2aGd4Y0dYbTZUY2J6YWNUeDJUN0JXYXZ1NUtlSUpvOHBBWi9hWnM1d0p3elEwcENJZ08xamViOU84PSIsInZlcnNpb24iOiIyIiwidHlwZSI6IkRBVEFfS0VZIiwiZXhwaXJhdGlvbiI6MTU3NjU3Njg4Mn0= https://622305974757.dkr.ecr.us-east-1.amazonaws.com\r\n"
     ]
    }
   ],
   "source": [
    "# no funciona:\n",
    "\n",
    "# ! aws ecr get-login --no-include-email --region {region}\n",
    "\n",
    "# ! echo \"my_pass\" | sudo -S -k docker login\n"
   ]
  },
  {
   "cell_type": "markdown",
   "metadata": {},
   "source": [
    "FIX:\n",
    "\n",
    "Hay que quitar el https de la url\n",
    "\n",
    "Reemplazar https://622305974757.dkr.ecr.us-east-1.amazonaws.com por 622305974757.dkr.ecr.us-east-1.amazonaws.com\n",
    "    "
   ]
  },
  {
   "cell_type": "code",
   "execution_count": 18,
   "metadata": {},
   "outputs": [
    {
     "name": "stdout",
     "output_type": "stream",
     "text": [
      "[sudo] password for paulati: WARNING! Using --password via the CLI is insecure. Use --password-stdin.\n",
      "Error response from daemon: login attempt to https://622305974757.dkr.ecr.us-east-1.amazonaws.com/v2/ failed with status: 400 Bad Request\n"
     ]
    }
   ],
   "source": [
    "! echo \"my_pass\" | sudo -S -k docker login -u AWS -p {p} {endpoint_fix}"
   ]
  },
  {
   "cell_type": "code",
   "execution_count": null,
   "metadata": {},
   "outputs": [],
   "source": [
    "sudo -S -k docker login -u AWS -p {p} {endpoint_fix}"
   ]
  },
  {
   "cell_type": "code",
   "execution_count": 21,
   "metadata": {},
   "outputs": [
    {
     "name": "stdout",
     "output_type": "stream",
     "text": [
      "[sudo] password for paulati: The push refers to repository [622305974757.dkr.ecr.us-east-1.amazonaws.com/grupo5-plot2do_code]\n",
      "\n",
      "\u001b[1Bd5811f35: Preparing \n",
      "\u001b[1B4cb8f2a2: Preparing \n",
      "\u001b[1B6372b213: Preparing \n",
      "\u001b[1B2a485f51: Preparing \n",
      "\u001b[1Ba6f43204: Preparing \n",
      "\u001b[1B7219a1b7: Preparing \n",
      "\u001b[1Bef66a5ab: Preparing \n",
      "\u001b[1B491c8867: Preparing \n",
      "\u001b[1Bf478f083: Preparing \n",
      "\u001b[1B962fd480: Preparing \n",
      "\u001b[1Bdd379459: Preparing \n",
      "\u001b[1B533c4cb9: Preparing \n",
      "\u001b[13B5811f35: Pushed   279.5MB/279.4MB2A\u001b[2K\u001b[13A\u001b[2K\u001b[6A\u001b[2K\u001b[13A\u001b[2K\u001b[13A\u001b[2K\u001b[13A\u001b[2K\u001b[4A\u001b[2K\u001b[3A\u001b[2K\u001b[2A\u001b[2K\u001b[13A\u001b[2K\u001b[13A\u001b[2K\u001b[13A\u001b[2K\u001b[13A\u001b[2K\u001b[13A\u001b[2K\u001b[13A\u001b[2K\u001b[13A\u001b[2K\u001b[13A\u001b[2K\u001b[13A\u001b[2K\u001b[13A\u001b[2K\u001b[13A\u001b[2K\u001b[13A\u001b[2K\u001b[13A\u001b[2K\u001b[13A\u001b[2K\u001b[13A\u001b[2K\u001b[13A\u001b[2K\u001b[13A\u001b[2K\u001b[13A\u001b[2K\u001b[13A\u001b[2K\u001b[13A\u001b[2K\u001b[13A\u001b[2K\u001b[13A\u001b[2K\u001b[13A\u001b[2K\u001b[13A\u001b[2K\u001b[13A\u001b[2K\u001b[13A\u001b[2K\u001b[13A\u001b[2K\u001b[13A\u001b[2K\u001b[13A\u001b[2K\u001b[13A\u001b[2K\u001b[13A\u001b[2K\u001b[13A\u001b[2K\u001b[13A\u001b[2K\u001b[13A\u001b[2K\u001b[13A\u001b[2K\u001b[13A\u001b[2K\u001b[13A\u001b[2K\u001b[13A\u001b[2K\u001b[13A\u001b[2K\u001b[13A\u001b[2K\u001b[13A\u001b[2K\u001b[13A\u001b[2K\u001b[13A\u001b[2K\u001b[13A\u001b[2K\u001b[13A\u001b[2K\u001b[13A\u001b[2K\u001b[13A\u001b[2K\u001b[13A\u001b[2K\u001b[13A\u001b[2K\u001b[13A\u001b[2K\u001b[13A\u001b[2K\u001b[13A\u001b[2K\u001b[13A\u001b[2K\u001b[13A\u001b[2K\u001b[13A\u001b[2K\u001b[13A\u001b[2K\u001b[13A\u001b[2K\u001b[13A\u001b[2K\u001b[13A\u001b[2K\u001b[13A\u001b[2K\u001b[13A\u001b[2K\u001b[13A\u001b[2K\u001b[13A\u001b[2K\u001b[13A\u001b[2K\u001b[13A\u001b[2K\u001b[13A\u001b[2K\u001b[13A\u001b[2K\u001b[13A\u001b[2K\u001b[13A\u001b[2K\u001b[13A\u001b[2K\u001b[13A\u001b[2K\u001b[13A\u001b[2K\u001b[13A\u001b[2K\u001b[13A\u001b[2K\u001b[13A\u001b[2K\u001b[13A\u001b[2K\u001b[13A\u001b[2K\u001b[13A\u001b[2K\u001b[13A\u001b[2K\u001b[13A\u001b[2K\u001b[13A\u001b[2K\u001b[13A\u001b[2K\u001b[13A\u001b[2K\u001b[13A\u001b[2K\u001b[13A\u001b[2K\u001b[13A\u001b[2K\u001b[13A\u001b[2K\u001b[13A\u001b[2K\u001b[13A\u001b[2K\u001b[13A\u001b[2K\u001b[13A\u001b[2K\u001b[13A\u001b[2K\u001b[13A\u001b[2K\u001b[13A\u001b[2K\u001b[13A\u001b[2K\u001b[13A\u001b[2K\u001b[13A\u001b[2K\u001b[13A\u001b[2K\u001b[13A\u001b[2K\u001b[13A\u001b[2K\u001b[13A\u001b[2K\u001b[13A\u001b[2K\u001b[13A\u001b[2K\u001b[13A\u001b[2K\u001b[13A\u001b[2K\u001b[13A\u001b[2K\u001b[13A\u001b[2K\u001b[13A\u001b[2K\u001b[13A\u001b[2K\u001b[13A\u001b[2K\u001b[13A\u001b[2K\u001b[13A\u001b[2K\u001b[13A\u001b[2K\u001b[13A\u001b[2K\u001b[13A\u001b[2K\u001b[13A\u001b[2K\u001b[13A\u001b[2K\u001b[13A\u001b[2K\u001b[13A\u001b[2K\u001b[13A\u001b[2K\u001b[13A\u001b[2K\u001b[13A\u001b[2K\u001b[13A\u001b[2K\u001b[13A\u001b[2K\u001b[13A\u001b[2K\u001b[13A\u001b[2K\u001b[13A\u001b[2K\u001b[13A\u001b[2K\u001b[13A\u001b[2K\u001b[13A\u001b[2K\u001b[13A\u001b[2K\u001b[13A\u001b[2K\u001b[13A\u001b[2K\u001b[13A\u001b[2K\u001b[13A\u001b[2K\u001b[13A\u001b[2K\u001b[13A\u001b[2K\u001b[13A\u001b[2K\u001b[13A\u001b[2K\u001b[13A\u001b[2K\u001b[13A\u001b[2K\u001b[13A\u001b[2K\u001b[13A\u001b[2K\u001b[13A\u001b[2K\u001b[13A\u001b[2K\u001b[13A\u001b[2K\u001b[13A\u001b[2K\u001b[13A\u001b[2K\u001b[13A\u001b[2K\u001b[13A\u001b[2K\u001b[13A\u001b[2K\u001b[13A\u001b[2K\u001b[13A\u001b[2K\u001b[13A\u001b[2K\u001b[13A\u001b[2K\u001b[13A\u001b[2K\u001b[13A\u001b[2K\u001b[13A\u001b[2K\u001b[13A\u001b[2K\u001b[13A\u001b[2K\u001b[13A\u001b[2K\u001b[13A\u001b[2K\u001b[13A\u001b[2K\u001b[13A\u001b[2K\u001b[13A\u001b[2K\u001b[13A\u001b[2K\u001b[13A\u001b[2K\u001b[13A\u001b[2K\u001b[13A\u001b[2K\u001b[13A\u001b[2K\u001b[13A\u001b[2K\u001b[13A\u001b[2K\u001b[13A\u001b[2K\u001b[13A\u001b[2K\u001b[13A\u001b[2K\u001b[13A\u001b[2K\u001b[13A\u001b[2K\u001b[13A\u001b[2K\u001b[13A\u001b[2K\u001b[13A\u001b[2K\u001b[13A\u001b[2K\u001b[13A\u001b[2K\u001b[13A\u001b[2K\u001b[13A\u001b[2K\u001b[13A\u001b[2K\u001b[13A\u001b[2K\u001b[13A\u001b[2K\u001b[13A\u001b[2K\u001b[13A\u001b[2K\u001b[13A\u001b[2K\u001b[13A\u001b[2K\u001b[13A\u001b[2K\u001b[13A\u001b[2K\u001b[13A\u001b[2K\u001b[13A\u001b[2K\u001b[13A\u001b[2K\u001b[13A\u001b[2K\u001b[13A\u001b[2K\u001b[13A\u001b[2K\u001b[13A\u001b[2K\u001b[13A\u001b[2K\u001b[13A\u001b[2K\u001b[13A\u001b[2K\u001b[13A\u001b[2K\u001b[13A\u001b[2K\u001b[13A\u001b[2K\u001b[13A\u001b[2K\u001b[13A\u001b[2K\u001b[13A\u001b[2K\u001b[13A\u001b[2K\u001b[13A\u001b[2K\u001b[13A\u001b[2K\u001b[13A\u001b[2K\u001b[13A\u001b[2K\u001b[13A\u001b[2K\u001b[13A\u001b[2K\u001b[13A\u001b[2K\u001b[13A\u001b[2K\u001b[13A\u001b[2K\u001b[13A\u001b[2K\u001b[13A\u001b[2K\u001b[13A\u001b[2K\u001b[13A\u001b[2K\u001b[13A\u001b[2K\u001b[13A\u001b[2K\u001b[13A\u001b[2K\u001b[13A\u001b[2K\u001b[13A\u001b[2K\u001b[13A\u001b[2K\u001b[13A\u001b[2K\u001b[13A\u001b[2K\u001b[13A\u001b[2K\u001b[13A\u001b[2K\u001b[13A\u001b[2K\u001b[13A\u001b[2K\u001b[13A\u001b[2K\u001b[13A\u001b[2K\u001b[13A\u001b[2K\u001b[13A\u001b[2K\u001b[13A\u001b[2K\u001b[13A\u001b[2K\u001b[13A\u001b[2K\u001b[13A\u001b[2KPushing  225.6MB/279.4MB\u001b[13A\u001b[2K\u001b[13A\u001b[2K\u001b[13A\u001b[2K\u001b[13A\u001b[2K\u001b[13A\u001b[2K\u001b[13A\u001b[2K\u001b[13A\u001b[2K\u001b[13A\u001b[2K\u001b[13A\u001b[2K\u001b[13A\u001b[2K\u001b[13A\u001b[2K\u001b[13A\u001b[2K\u001b[13A\u001b[2K\u001b[13A\u001b[2K\u001b[13A\u001b[2K\u001b[13A\u001b[2K\u001b[13A\u001b[2K\u001b[13A\u001b[2K\u001b[13A\u001b[2K\u001b[13A\u001b[2K\u001b[13A\u001b[2K\u001b[13A\u001b[2K\u001b[13A\u001b[2K\u001b[13A\u001b[2K\u001b[13A\u001b[2K\u001b[13A\u001b[2K\u001b[13A\u001b[2K\u001b[13A\u001b[2K\u001b[13A\u001b[2K\u001b[13A\u001b[2K\u001b[13A\u001b[2K\u001b[13A\u001b[2K\u001b[13A\u001b[2K\u001b[13A\u001b[2K\u001b[13A\u001b[2K\u001b[13A\u001b[2K\u001b[13A\u001b[2K\u001b[13A\u001b[2K\u001b[13A\u001b[2K\u001b[13A\u001b[2K\u001b[13A\u001b[2K\u001b[13A\u001b[2K\u001b[13A\u001b[2K\u001b[13A\u001b[2K\u001b[13A\u001b[2K\u001b[13A\u001b[2K\u001b[13A\u001b[2K\u001b[13A\u001b[2K\u001b[13A\u001b[2K\u001b[13A\u001b[2K\u001b[13A\u001b[2K\u001b[13A\u001b[2K\u001b[13A\u001b[2K\u001b[13A\u001b[2K\u001b[13A\u001b[2K\u001b[13A\u001b[2K\u001b[13A\u001b[2K\u001b[13A\u001b[2K\u001b[13A\u001b[2K\u001b[13A\u001b[2Klatest: digest: sha256:6e0f2f0e9166a0ae02eb6d27c0f6be75a6ff77b1d3e75a916c42e80025dace6a size: 3054\n"
     ]
    }
   ],
   "source": [
    "! echo \"my_pass\" | sudo -S -k docker push {repositoryUri}"
   ]
  }
 ],
 "metadata": {
  "kernelspec": {
   "display_name": "Python [conda env:cloud] *",
   "language": "python",
   "name": "conda-env-cloud-py"
  },
  "language_info": {
   "codemirror_mode": {
    "name": "ipython",
    "version": 3
   },
   "file_extension": ".py",
   "mimetype": "text/x-python",
   "name": "python",
   "nbconvert_exporter": "python",
   "pygments_lexer": "ipython3",
   "version": "3.7.3"
  }
 },
 "nbformat": 4,
 "nbformat_minor": 2
}
