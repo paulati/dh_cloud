{
 "cells": [
  {
   "cell_type": "code",
   "execution_count": 9,
   "metadata": {},
   "outputs": [],
   "source": [
    "#!/usr/bin/env python\n",
    "# coding: utf-8\n",
    "\n",
    "# Imports\n",
    "import boto3\n",
    "import json\n",
    "\n",
    "\n",
    "# Constants\n",
    "# profile_name = 'digitalhouse' # or default\n",
    "region_name ='us-east-1'\n",
    "origin_bucket = 'grupo5-plot2do'\n",
    "arn_origin_bucket = 'arn:aws:s3:::' + origin_bucket\n",
    "role_lambda_s3_name = 'LambdaExecutionFullS3'\n",
    "arn_aws_lambda_execution_fulls3_role = 'arn:aws:iam::aws:policy/service-role/AWSLambdaBasicExecutionRole'\n",
    "arn_amazon_s3_full_access = 'arn:aws:iam::aws:policy/AmazonS3FullAccess'\n",
    "function_name = 'grupo5-S3events'\n",
    "runtime = 'python3.7'\n",
    "handler = 's3_lambda_lambda.lambda_handler'\n",
    "lambda_zip_file_path = './lambda.zip'\n",
    "\n",
    "\n",
    "# Clients\n",
    "# boto3.setup_default_session(profile_name = profile_name)\n",
    "\n",
    "s3_client = boto3.client('s3', region_name = region_name)\n",
    "iam_client = boto3.client('iam', region_name = region_name)\n",
    "lambda_client = boto3.client('lambda', region_name = region_name)\n",
    "logs_client = boto3.client('logs', region_name = region_name)\n",
    "\n"
   ]
  },
  {
   "cell_type": "code",
   "execution_count": 11,
   "metadata": {},
   "outputs": [
    {
     "data": {
      "text/plain": [
       "{'ResponseMetadata': {'RequestId': 'DB77C4E94FAF6583',\n",
       "  'HostId': 'Sow/YjZgcNwCD/+JXwKRv76Ffsn+ZLmf6A4KF/p//6vhs2k/OtUly0q8OLBdCFWhJNCSlYyeGBE=',\n",
       "  'HTTPStatusCode': 200,\n",
       "  'HTTPHeaders': {'x-amz-id-2': 'Sow/YjZgcNwCD/+JXwKRv76Ffsn+ZLmf6A4KF/p//6vhs2k/OtUly0q8OLBdCFWhJNCSlYyeGBE=',\n",
       "   'x-amz-request-id': 'DB77C4E94FAF6583',\n",
       "   'date': 'Sun, 15 Dec 2019 23:35:12 GMT',\n",
       "   'location': '/grupo5-plot2do',\n",
       "   'content-length': '0',\n",
       "   'server': 'AmazonS3'},\n",
       "  'RetryAttempts': 0},\n",
       " 'Location': '/grupo5-plot2do'}"
      ]
     },
     "execution_count": 11,
     "metadata": {},
     "output_type": "execute_result"
    }
   ],
   "source": [
    "\n",
    "# S3\n",
    "s3_create_bucket_destiny_response = s3_client.create_bucket(Bucket = origin_bucket)\n",
    "s3_create_bucket_destiny_response\n"
   ]
  },
  {
   "cell_type": "code",
   "execution_count": 12,
   "metadata": {},
   "outputs": [
    {
     "ename": "EntityAlreadyExistsException",
     "evalue": "An error occurred (EntityAlreadyExists) when calling the CreateRole operation: Role with name LambdaExecutionFullS3 already exists.",
     "output_type": "error",
     "traceback": [
      "\u001b[0;31m---------------------------------------------------------------------------\u001b[0m",
      "\u001b[0;31mEntityAlreadyExistsException\u001b[0m              Traceback (most recent call last)",
      "\u001b[0;32m<ipython-input-12-b8609c2f7616>\u001b[0m in \u001b[0;36m<module>\u001b[0;34m\u001b[0m\n\u001b[1;32m     17\u001b[0m iam_create_role_response = iam_client.create_role(\n\u001b[1;32m     18\u001b[0m   \u001b[0mRoleName\u001b[0m \u001b[0;34m=\u001b[0m \u001b[0mrole_lambda_s3_name\u001b[0m\u001b[0;34m,\u001b[0m\u001b[0;34m\u001b[0m\u001b[0;34m\u001b[0m\u001b[0m\n\u001b[0;32m---> 19\u001b[0;31m   \u001b[0mAssumeRolePolicyDocument\u001b[0m \u001b[0;34m=\u001b[0m \u001b[0mjson_role_policy_document\u001b[0m\u001b[0;34m,\u001b[0m\u001b[0;34m\u001b[0m\u001b[0;34m\u001b[0m\u001b[0m\n\u001b[0m\u001b[1;32m     20\u001b[0m )\n\u001b[1;32m     21\u001b[0m \u001b[0;34m\u001b[0m\u001b[0m\n",
      "\u001b[0;32m~/anaconda2/envs/cloud/lib/python3.7/site-packages/botocore/client.py\u001b[0m in \u001b[0;36m_api_call\u001b[0;34m(self, *args, **kwargs)\u001b[0m\n\u001b[1;32m    355\u001b[0m                     \"%s() only accepts keyword arguments.\" % py_operation_name)\n\u001b[1;32m    356\u001b[0m             \u001b[0;31m# The \"self\" in this scope is referring to the BaseClient.\u001b[0m\u001b[0;34m\u001b[0m\u001b[0;34m\u001b[0m\u001b[0;34m\u001b[0m\u001b[0m\n\u001b[0;32m--> 357\u001b[0;31m             \u001b[0;32mreturn\u001b[0m \u001b[0mself\u001b[0m\u001b[0;34m.\u001b[0m\u001b[0m_make_api_call\u001b[0m\u001b[0;34m(\u001b[0m\u001b[0moperation_name\u001b[0m\u001b[0;34m,\u001b[0m \u001b[0mkwargs\u001b[0m\u001b[0;34m)\u001b[0m\u001b[0;34m\u001b[0m\u001b[0;34m\u001b[0m\u001b[0m\n\u001b[0m\u001b[1;32m    358\u001b[0m \u001b[0;34m\u001b[0m\u001b[0m\n\u001b[1;32m    359\u001b[0m         \u001b[0m_api_call\u001b[0m\u001b[0;34m.\u001b[0m\u001b[0m__name__\u001b[0m \u001b[0;34m=\u001b[0m \u001b[0mstr\u001b[0m\u001b[0;34m(\u001b[0m\u001b[0mpy_operation_name\u001b[0m\u001b[0;34m)\u001b[0m\u001b[0;34m\u001b[0m\u001b[0;34m\u001b[0m\u001b[0m\n",
      "\u001b[0;32m~/anaconda2/envs/cloud/lib/python3.7/site-packages/botocore/client.py\u001b[0m in \u001b[0;36m_make_api_call\u001b[0;34m(self, operation_name, api_params)\u001b[0m\n\u001b[1;32m    659\u001b[0m             \u001b[0merror_code\u001b[0m \u001b[0;34m=\u001b[0m \u001b[0mparsed_response\u001b[0m\u001b[0;34m.\u001b[0m\u001b[0mget\u001b[0m\u001b[0;34m(\u001b[0m\u001b[0;34m\"Error\"\u001b[0m\u001b[0;34m,\u001b[0m \u001b[0;34m{\u001b[0m\u001b[0;34m}\u001b[0m\u001b[0;34m)\u001b[0m\u001b[0;34m.\u001b[0m\u001b[0mget\u001b[0m\u001b[0;34m(\u001b[0m\u001b[0;34m\"Code\"\u001b[0m\u001b[0;34m)\u001b[0m\u001b[0;34m\u001b[0m\u001b[0;34m\u001b[0m\u001b[0m\n\u001b[1;32m    660\u001b[0m             \u001b[0merror_class\u001b[0m \u001b[0;34m=\u001b[0m \u001b[0mself\u001b[0m\u001b[0;34m.\u001b[0m\u001b[0mexceptions\u001b[0m\u001b[0;34m.\u001b[0m\u001b[0mfrom_code\u001b[0m\u001b[0;34m(\u001b[0m\u001b[0merror_code\u001b[0m\u001b[0;34m)\u001b[0m\u001b[0;34m\u001b[0m\u001b[0;34m\u001b[0m\u001b[0m\n\u001b[0;32m--> 661\u001b[0;31m             \u001b[0;32mraise\u001b[0m \u001b[0merror_class\u001b[0m\u001b[0;34m(\u001b[0m\u001b[0mparsed_response\u001b[0m\u001b[0;34m,\u001b[0m \u001b[0moperation_name\u001b[0m\u001b[0;34m)\u001b[0m\u001b[0;34m\u001b[0m\u001b[0;34m\u001b[0m\u001b[0m\n\u001b[0m\u001b[1;32m    662\u001b[0m         \u001b[0;32melse\u001b[0m\u001b[0;34m:\u001b[0m\u001b[0;34m\u001b[0m\u001b[0;34m\u001b[0m\u001b[0m\n\u001b[1;32m    663\u001b[0m             \u001b[0;32mreturn\u001b[0m \u001b[0mparsed_response\u001b[0m\u001b[0;34m\u001b[0m\u001b[0;34m\u001b[0m\u001b[0m\n",
      "\u001b[0;31mEntityAlreadyExistsException\u001b[0m: An error occurred (EntityAlreadyExists) when calling the CreateRole operation: Role with name LambdaExecutionFullS3 already exists."
     ]
    }
   ],
   "source": [
    "\n",
    "# Role\n",
    "role_policy_document = {\n",
    "  \"Version\": \"2012-10-17\",\n",
    "  \"Statement\": [\n",
    "    {\n",
    "      \"Sid\": \"\",\n",
    "      \"Effect\": \"Allow\",\n",
    "      \"Principal\": {\n",
    "        \"Service\": \"lambda.amazonaws.com\"\n",
    "      },\n",
    "      \"Action\": \"sts:AssumeRole\"\n",
    "    }\n",
    "  ]\n",
    "}\n",
    "json_role_policy_document = json.dumps(role_policy_document)\n",
    "\n",
    "iam_create_role_response = iam_client.create_role(\n",
    "  RoleName = role_lambda_s3_name,\n",
    "  AssumeRolePolicyDocument = json_role_policy_document,\n",
    ")\n",
    "\n",
    "arn_role = iam_create_role_response.get('Role').get('Arn')\n",
    "\n",
    "iam_attach_role_1_response = iam_client.attach_role_policy(\n",
    "    RoleName = role_lambda_s3_name,\n",
    "    PolicyArn = arn_aws_lambda_execution_fulls3_role,\n",
    ")\n",
    "\n",
    "iam_attach_role_2_response = iam_client.attach_role_policy(\n",
    "    RoleName = role_lambda_s3_name,\n",
    "    PolicyArn = arn_amazon_s3_full_access\n",
    ")\n"
   ]
  },
  {
   "cell_type": "code",
   "execution_count": 14,
   "metadata": {},
   "outputs": [
    {
     "name": "stdout",
     "output_type": "stream",
     "text": [
      "arn:aws:lambda:us-east-1:622305974757:function:grupo5-S3events\n"
     ]
    }
   ],
   "source": [
    "iam_get_role = iam_client.get_role(RoleName = role_lambda_s3_name)\n",
    "\n",
    "# Lambda\n",
    "env_variables = dict()\n",
    "\n",
    "with open(lambda_zip_file_path, 'rb') as f:\n",
    "    zipped_code = f.read()\n",
    "\n",
    "lambda_create_func_response = lambda_client.create_function(\n",
    "    FunctionName = function_name,\n",
    "    Runtime = runtime,\n",
    "    Role = iam_get_role['Role']['Arn'],\n",
    "    Handler = handler,\n",
    "    Code = dict(ZipFile = zipped_code),\n",
    "    Timeout = 300,\n",
    "    Environment = dict(Variables = env_variables),\n",
    ")\n",
    "\n",
    "arn_lambda = lambda_create_func_response.get('FunctionArn')\n",
    "\n",
    "print(arn_lambda)\n",
    "\n",
    "lambda_add_permission_response = lambda_client.add_permission(\n",
    "    FunctionName = function_name,\n",
    "    StatementId = 'sid-deflater',\n",
    "    Action = 'lambda:InvokeFunction',\n",
    "    Principal = 's3.amazonaws.com',\n",
    "    SourceArn = arn_origin_bucket\n",
    ")\n",
    "\n",
    "notification_configuration = { \n",
    "  \"LambdaFunctionConfigurations\":[ \n",
    "    { \n",
    "      \"LambdaFunctionArn\":arn_lambda,\n",
    "      \"Events\":[ \n",
    "        \"s3:ObjectCreated:*\"\n",
    "      ]\n",
    "    }\n",
    "  ]\n",
    "}\n",
    "\n",
    "json_notification_configuration = json.dumps(notification_configuration)\n",
    "\n",
    "s3_put_notif_response = s3_client.put_bucket_notification_configuration(\n",
    "    Bucket = origin_bucket,\n",
    "    NotificationConfiguration = notification_configuration\n",
    ")\n",
    "\n",
    "\n"
   ]
  }
 ],
 "metadata": {
  "kernelspec": {
   "display_name": "Python [conda env:cloud] *",
   "language": "python",
   "name": "conda-env-cloud-py"
  },
  "language_info": {
   "codemirror_mode": {
    "name": "ipython",
    "version": 3
   },
   "file_extension": ".py",
   "mimetype": "text/x-python",
   "name": "python",
   "nbconvert_exporter": "python",
   "pygments_lexer": "ipython3",
   "version": "3.7.3"
  }
 },
 "nbformat": 4,
 "nbformat_minor": 2
}
