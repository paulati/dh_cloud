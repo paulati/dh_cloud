{
 "cells": [
  {
   "cell_type": "markdown",
   "metadata": {},
   "source": [
    "https://docs.aws.amazon.com/AmazonS3/latest/user-guide/static-website-hosting.html\n",
    "\n",
    "https://boto3.amazonaws.com/v1/documentation/api/latest/guide/s3-example-static-web-host.html"
   ]
  },
  {
   "cell_type": "code",
   "execution_count": 40,
   "metadata": {},
   "outputs": [],
   "source": [
    "import boto3\n",
    "import json"
   ]
  },
  {
   "cell_type": "code",
   "execution_count": 35,
   "metadata": {},
   "outputs": [],
   "source": [
    "bucket_name = \"grupo5-staticsite\"\n",
    "account_id = \"622305974757\""
   ]
  },
  {
   "cell_type": "code",
   "execution_count": 18,
   "metadata": {},
   "outputs": [],
   "source": [
    "\n",
    "# Create an S3 client\n",
    "s3 = boto3.client('s3')\n",
    "\n",
    "response = s3.list_buckets()\n",
    "bucket_names = [bucket['Name'] for bucket in response['Buckets']]\n",
    "\n",
    "bucket_exists = False\n",
    "if bucket_name in bucket_names:\n",
    "    bucket_exists = True\n",
    "else:\n",
    "    bucket_exists = False\n",
    "\n",
    "if not bucket_exists:\n",
    "    op_ok = s3.create_bucket(Bucket=bucket_name)    \n",
    "    print(op_ok)\n"
   ]
  },
  {
   "cell_type": "code",
   "execution_count": 20,
   "metadata": {},
   "outputs": [
    {
     "data": {
      "text/plain": [
       "{'ResponseMetadata': {'RequestId': '4FAE12835F5E2E23',\n",
       "  'HostId': 'rFN+GB0+lWPYTnlTbphB7fhR0/P3uj8ngd0SZOLgajnW4W9lE54nkTyelwQeGGYmhLnfd9hCSA8=',\n",
       "  'HTTPStatusCode': 200,\n",
       "  'HTTPHeaders': {'x-amz-id-2': 'rFN+GB0+lWPYTnlTbphB7fhR0/P3uj8ngd0SZOLgajnW4W9lE54nkTyelwQeGGYmhLnfd9hCSA8=',\n",
       "   'x-amz-request-id': '4FAE12835F5E2E23',\n",
       "   'date': 'Fri, 13 Dec 2019 15:54:22 GMT',\n",
       "   'content-length': '0',\n",
       "   'server': 'AmazonS3'},\n",
       "  'RetryAttempts': 0}}"
      ]
     },
     "execution_count": 20,
     "metadata": {},
     "output_type": "execute_result"
    }
   ],
   "source": [
    "# Define the website configuration\n",
    "website_configuration = {\n",
    "    'ErrorDocument': {'Key': 'error.html'},\n",
    "    'IndexDocument': {'Suffix': 'index.html'},\n",
    "}\n",
    "\n",
    "# Set the website configuration\n",
    "s3 = boto3.client('s3')\n",
    "s3.put_bucket_website(Bucket=bucket_name,\n",
    "                      WebsiteConfiguration=website_configuration)"
   ]
  },
  {
   "cell_type": "code",
   "execution_count": 21,
   "metadata": {},
   "outputs": [],
   "source": [
    "result = s3.get_bucket_website(Bucket=bucket_name)"
   ]
  },
  {
   "cell_type": "code",
   "execution_count": null,
   "metadata": {},
   "outputs": [],
   "source": [
    "# Delete the website configuration\n",
    "# s3 = boto3.client('s3')\n",
    "# s3.delete_bucket_website(Bucket='BUCKET_NAME')\n"
   ]
  },
  {
   "cell_type": "markdown",
   "metadata": {},
   "source": [
    "disable block public access for the bucket:"
   ]
  },
  {
   "cell_type": "code",
   "execution_count": 36,
   "metadata": {},
   "outputs": [
    {
     "data": {
      "text/plain": [
       "{'ResponseMetadata': {'RequestId': 'FD7F120A2E0BAFEA',\n",
       "  'HostId': 'M75FID38uS9cxvOg1A6YJNl+9HRjvU0BE7pgipN9JM+CvimhAlg/GaH1/bSkXl4vdQAs7E94pKc=',\n",
       "  'HTTPStatusCode': 204,\n",
       "  'HTTPHeaders': {'x-amz-id-2': 'M75FID38uS9cxvOg1A6YJNl+9HRjvU0BE7pgipN9JM+CvimhAlg/GaH1/bSkXl4vdQAs7E94pKc=',\n",
       "   'x-amz-request-id': 'FD7F120A2E0BAFEA',\n",
       "   'date': 'Fri, 13 Dec 2019 16:14:46 GMT',\n",
       "   'server': 'AmazonS3'},\n",
       "  'RetryAttempts': 0}}"
      ]
     },
     "execution_count": 36,
     "metadata": {},
     "output_type": "execute_result"
    }
   ],
   "source": [
    "client = boto3.client('s3control')\n",
    "client.delete_public_access_block(AccountId= account_id)"
   ]
  },
  {
   "cell_type": "markdown",
   "metadata": {},
   "source": [
    "Add a bucket policy to the website bucket that grants everyone access to the objects in the bucket."
   ]
  },
  {
   "cell_type": "code",
   "execution_count": 46,
   "metadata": {},
   "outputs": [
    {
     "data": {
      "text/plain": [
       "{'ResponseMetadata': {'RequestId': 'B1829988A0FEA8B8',\n",
       "  'HostId': '/ARpLKYCTMbqI7u08NI7QZmIJ2+JSrtFEC/Kd6kiA2o+aQfyCYxhk11uD+NwxC0+twfkg33WYq0=',\n",
       "  'HTTPStatusCode': 204,\n",
       "  'HTTPHeaders': {'x-amz-id-2': '/ARpLKYCTMbqI7u08NI7QZmIJ2+JSrtFEC/Kd6kiA2o+aQfyCYxhk11uD+NwxC0+twfkg33WYq0=',\n",
       "   'x-amz-request-id': 'B1829988A0FEA8B8',\n",
       "   'date': 'Fri, 13 Dec 2019 17:26:48 GMT',\n",
       "   'server': 'AmazonS3'},\n",
       "  'RetryAttempts': 0}}"
      ]
     },
     "execution_count": 46,
     "metadata": {},
     "output_type": "execute_result"
    }
   ],
   "source": [
    "# Create a bucket policy\n",
    "bucket_name = bucket_name\n",
    "\n",
    "bucket_policy = {\n",
    "    \"Version\": \"2012-10-17\",\n",
    "    \"Statement\": [\n",
    "        {\n",
    "            \"Sid\": \"PublicReadGetObject\",\n",
    "            \"Effect\": \"Allow\",\n",
    "            \"Principal\": \"*\",\n",
    "            \"Action\": [\n",
    "                \"s3:GetObject\"\n",
    "            ],\n",
    "            \"Resource\": [\n",
    "                f'arn:aws:s3:::{bucket_name}/*', \n",
    "                f'arn:aws:s3:::{bucket_name}/*/*'\n",
    "            ]\n",
    "        }\n",
    "    ]\n",
    "}\n",
    "\n",
    "#{\n",
    "#    'Version': '2012-10-17',\n",
    "#    'Statement': [{\n",
    "#        'Sid': 'AddPerm',\n",
    "#        'Effect': 'Allow',\n",
    "#        'Principal': '*',\n",
    "#        'Action': ['s3:GetObject'],\n",
    "#        'Resource': f'arn:aws:s3:::{bucket_name}/*'\n",
    "#    }]\n",
    "#}\n",
    "\n",
    "# Convert the policy from JSON dict to string\n",
    "bucket_policy = json.dumps(bucket_policy)\n",
    "\n",
    "s3.put_bucket_policy(Bucket=bucket_name, Policy=bucket_policy)"
   ]
  },
  {
   "cell_type": "code",
   "execution_count": 42,
   "metadata": {},
   "outputs": [
    {
     "name": "stdout",
     "output_type": "stream",
     "text": [
      "{\"Version\":\"2012-10-17\",\"Statement\":[{\"Sid\":\"AddPerm\",\"Effect\":\"Allow\",\"Principal\":\"*\",\"Action\":\"s3:GetObject\",\"Resource\":\"arn:aws:s3:::grupo5-staticsite/*\"}]}\n"
     ]
    }
   ],
   "source": [
    "# Retrieve the policy of the specified bucket\n",
    "result = s3.get_bucket_policy(Bucket=bucket_name)\n",
    "print(result['Policy'])"
   ]
  }
 ],
 "metadata": {
  "kernelspec": {
   "display_name": "Python [conda env:cloud] *",
   "language": "python",
   "name": "conda-env-cloud-py"
  },
  "language_info": {
   "codemirror_mode": {
    "name": "ipython",
    "version": 3
   },
   "file_extension": ".py",
   "mimetype": "text/x-python",
   "name": "python",
   "nbconvert_exporter": "python",
   "pygments_lexer": "ipython3",
   "version": "3.7.3"
  }
 },
 "nbformat": 4,
 "nbformat_minor": 2
}
